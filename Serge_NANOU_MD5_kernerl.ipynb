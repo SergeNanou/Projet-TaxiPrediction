{
  "cells": [
    {
      "metadata": {
        "_uuid": "8f2839f25d086af736a60e9eeb907d3b93b6e0e5",
        "_cell_guid": "b1076dfc-b9ad-4769-8c92-a6c4dae69d19",
        "trusted": true
      },
      "cell_type": "code",
      "source": "# This Python 3 environment comes with many helpful analytics libraries installed\n# It is defined by the kaggle/python docker image: https://github.com/kaggle/docker-python\n# For example, here's several helpful packages to load in \n\nimport numpy as np # linear algebra\nimport pandas as pd # data processing, CSV file I/O (e.g. pd.read_csv)\nimport numpy as np # linear algebra\nimport pandas as pd \nfrom scipy import stats\nimport seaborn as sns\nimport matplotlib\nimport matplotlib.pyplot as plt\nimport math\n# Input data files are available in the \"../input/\" directory.\n# For example, running this (by clicking run or pressing Shift+Enter) will list the files in the input directory\n\nimport os\nprint(os.listdir(\"../input\"))\n\n# Any results you write to the current directory are saved as output.",
      "execution_count": null,
      "outputs": []
    },
    {
      "metadata": {
        "_uuid": "1c9703d88fd54dfafd7bb212c5b8172f2955fed9"
      },
      "cell_type": "markdown",
      "source": "## DATA IMPORT\n"
    },
    {
      "metadata": {
        "trusted": true,
        "_uuid": "f4a25e183b744ee75a6ce779be03d325c4e40044"
      },
      "cell_type": "code",
      "source": "train_df =  pd.read_csv('../input/train.csv', nrows= 10_000, index_col='id')\ntrain_df.dtypes",
      "execution_count": null,
      "outputs": []
    },
    {
      "metadata": {
        "_cell_guid": "79c7e3d0-c299-4dcb-8224-4455121ee9b0",
        "_uuid": "d629ff2d2480ee46fbb7e2d37f6b5fab8052498a",
        "trusted": true
      },
      "cell_type": "code",
      "source": "train_df.head()",
      "execution_count": null,
      "outputs": []
    },
    {
      "metadata": {
        "_uuid": "f0268e33e6ba3ea5729e72cad36b1022a419d088"
      },
      "cell_type": "markdown",
      "source": "## DATA EXPLORATION\n"
    },
    {
      "metadata": {
        "trusted": true,
        "_uuid": "edd51f67978ef63afd4e35c7af16451d728c430a"
      },
      "cell_type": "code",
      "source": "train_df.describe()\n",
      "execution_count": null,
      "outputs": []
    },
    {
      "metadata": {
        "trusted": true,
        "_uuid": "e22866811b87560173e5e62c7323025b27b3ede9"
      },
      "cell_type": "code",
      "source": "train_df['trip_duration'].describe()",
      "execution_count": null,
      "outputs": []
    },
    {
      "metadata": {
        "trusted": true,
        "_uuid": "9b9d89479ade6b44fa32f169e1535b7fccc4d780"
      },
      "cell_type": "code",
      "source": "SELECTED_COLUMNS = ['passenger_count', 'pickup_longitude', 'pickup_latitude', 'dropoff_longitude', 'dropoff_latitude',]\nX = train_df[SELECTED_COLUMNS]\nX.head()",
      "execution_count": null,
      "outputs": []
    },
    {
      "metadata": {
        "trusted": true,
        "_uuid": "429ccfeb1e5c7639ae99ab595436da8c36ab8110"
      },
      "cell_type": "code",
      "source": " y = np.log1p(train_df['trip_duration'])\n ",
      "execution_count": null,
      "outputs": []
    },
    {
      "metadata": {
        "trusted": true,
        "_uuid": "dcbaf52e1bc6aa64651d2d32f35b99abf5aa1aa2"
      },
      "cell_type": "code",
      "source": "y.hist(bins=100, figsize=(14,3))\nplt.xlabel('during')\nplt.title('Histogram');",
      "execution_count": null,
      "outputs": []
    },
    {
      "metadata": {
        "trusted": true,
        "_uuid": "b45ac0ee031ca53a6a5777658b63624ac1729e9c"
      },
      "cell_type": "code",
      "source": "",
      "execution_count": null,
      "outputs": []
    },
    {
      "metadata": {
        "trusted": true,
        "_uuid": "3c31e3c52dc75099da014d3348df9e04c005b258"
      },
      "cell_type": "code",
      "source": "# Import the model we are using\nfrom sklearn.ensemble import RandomForestRegressor\n# Instantiate model with 1000 decision trees\nrf = RandomForestRegressor(n_estimators = 100, random_state = 42)",
      "execution_count": null,
      "outputs": []
    },
    {
      "metadata": {
        "trusted": true,
        "_uuid": "6e63ec9e667028260c610502c6ac18c8702719cc"
      },
      "cell_type": "code",
      "source": "# Train the model on training data\nrf.fit(X, y);",
      "execution_count": null,
      "outputs": []
    },
    {
      "metadata": {
        "trusted": true,
        "_uuid": "19929ee078d651ce0b37c947837131c0a6f7734e"
      },
      "cell_type": "code",
      "source": "test_df =  pd.read_csv('../input/test.csv')\ntest_df.dtypes\ntest_df.head(10)",
      "execution_count": null,
      "outputs": []
    },
    {
      "metadata": {
        "trusted": true,
        "_uuid": "4734295a8de62d9fb1e9f05342a540544921a874"
      },
      "cell_type": "code",
      "source": "test_df['id']",
      "execution_count": null,
      "outputs": []
    },
    {
      "metadata": {
        "trusted": true,
        "_uuid": "1870548db40d1088a4adb30a59e5dd9c3ef07e9c"
      },
      "cell_type": "code",
      "source": "X_test.head()",
      "execution_count": null,
      "outputs": []
    },
    {
      "metadata": {
        "trusted": true,
        "_uuid": "3ac1c3ee95674f3cc38d4629906d2e4343b98e65",
        "_kg_hide-output": true
      },
      "cell_type": "code",
      "source": "X_test = test_df[SELECTED_COLUMNS]\npredictions = np.exp(rf.predict(X_test))-np.ones(len(X_test))\nX_test.shape\npred = pd.DataFrame(predictions, index=test_df['id'])\npred.columns = ['trip_duration']\npred.to_csv(\"dat1.csv\")\n\npd.read_csv('dat1.csv').head()",
      "execution_count": null,
      "outputs": []
    },
    {
      "metadata": {
        "trusted": true,
        "_uuid": "f46aa142c2a61369c9f789cee7c011a884acf9e3"
      },
      "cell_type": "code",
      "source": "X_test.shape",
      "execution_count": null,
      "outputs": []
    },
    {
      "metadata": {
        "trusted": true,
        "_uuid": "947910e00f25c6b477bb47a6941cecdca95d7be2"
      },
      "cell_type": "code",
      "source": "## from sklearn.model_selection import cross_val_score\nscores = -cross_val_score(rf, X, y, cv=7, scoring = 'neg_mean_squared_error' )",
      "execution_count": null,
      "outputs": []
    },
    {
      "metadata": {
        "trusted": true,
        "_uuid": "9db3e6f5e3f9a6a35abfc7dfbd68e2d23d4b96c4"
      },
      "cell_type": "code",
      "source": "math.sqrt(scores.mean())",
      "execution_count": null,
      "outputs": []
    },
    {
      "metadata": {
        "trusted": true,
        "_uuid": "c19dd99c4f6c4d38bf5d93637d07b382b8dae591"
      },
      "cell_type": "code",
      "source": "",
      "execution_count": null,
      "outputs": []
    },
    {
      "metadata": {
        "trusted": true,
        "_uuid": "6dfa35207255a763deb3a2c242062d754c7cc2f8"
      },
      "cell_type": "code",
      "source": "",
      "execution_count": null,
      "outputs": []
    }
  ],
  "metadata": {
    "kernelspec": {
      "display_name": "Python 3",
      "language": "python",
      "name": "python3"
    },
    "language_info": {
      "name": "python",
      "version": "3.6.6",
      "mimetype": "text/x-python",
      "codemirror_mode": {
        "name": "ipython",
        "version": 3
      },
      "pygments_lexer": "ipython3",
      "nbconvert_exporter": "python",
      "file_extension": ".py"
    }
  },
  "nbformat": 4,
  "nbformat_minor": 1
}